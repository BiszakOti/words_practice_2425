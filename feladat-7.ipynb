{
 "cells": [
  {
   "cell_type": "markdown",
   "id": "16fda52d",
   "metadata": {},
   "source": [
    "# 7. feladat\n",
    "\n",
    "Függvény, ami argumentumként megadható input szöveges file tartalmára (default: stopwords_hu.txt) megadja, hogy a beadott input szöveges file-ban tapasztalható betűgyakoriságok mely betűkre térnek el minimum 10%-kal a leggyakoribb szavak listájában tapasztalható betűgyakoriságtól (pl ha a leggyakoribb szavak listájában 6,1% az n betűk aránya, és a beadott szöveges file-ban az n betűk aránya kevesebb, mint 5,49% vagy több, mint 6,71%, akkor az outputban legyen benn az n betű), és mi az adott betű gyakorisága a leggyakoribb szavak listájában és az input file-ban. (output: pl szótár) (Kis és nagybetűk különbsége nem számít) "
   ]
  },
  {
   "cell_type": "code",
   "execution_count": 1,
   "id": "4ca679d4",
   "metadata": {},
   "outputs": [],
   "source": [
    "#importálom a szükséges packageket\n",
    "from collections import Counter"
   ]
  },
  {
   "cell_type": "code",
   "execution_count": 2,
   "id": "51822c20",
   "metadata": {},
   "outputs": [],
   "source": [
    "#megadom az elérési utakat a viszonyítási fájlhoz és a vizsgálandó fájlhoz is\n",
    "ref_file_path = \"C:/Users/Oti/OneDrive - elte.hu/Elte/2. SURVEY STATISZTIKA ÉS ADATANALITIKA/4. félév/adatelemzesi_infrastruktura2/text_mining_hf/words_practice_2425/word_lists/stopwords_hu.txt\"\n",
    "input_file_path = \"C:/Users/Oti/OneDrive - elte.hu/Elte/2. SURVEY STATISZTIKA ÉS ADATANALITIKA/4. félév/adatelemzesi_infrastruktura2/text_mining_hf/words_practice_2425/proba_szoveg.txt\""
   ]
  },
  {
   "cell_type": "code",
   "execution_count": 3,
   "id": "8948231c",
   "metadata": {},
   "outputs": [],
   "source": [
    "#definiálom a függvény\n",
    "def eltero_betügyakorisagok(input_file_path, ref_file_path=ref_file_path):\n",
    "    ''' \n",
    "    A függvény két txt file betűgyakoriságait hasonlítja össze\n",
    "\n",
    "    Params: \n",
    "    input_file_path: elérési út (vizsgálandó txt)\n",
    "    ref_file_path: elérési út (viszonyítási txt - alap esetben a stopword_hu.txt)\n",
    "\n",
    "    Output: dictionary\n",
    "    Azok a betűk, amik a vizsgált fájlban +/- 10%-al eltérő nagyságrendben vannak jelen a vizsgált fájlban, mint a viszonyítási fájlban, \n",
    "    ezeknek a betűknek a betű gyakoriságai.\n",
    "\n",
    "    '''\n",
    "    #megnyitom a txt filokat és egy istává konvertálom őket\n",
    "    ref_text = open(ref_file_path, \"r\").read().replace('\\n', ' ').split(\".\")\n",
    "    input_text = open(input_file_path, \"r\").read().replace('\\n', ' ').split(\".\")\n",
    "\n",
    "    #kisbetűssé alakítom + egy egybefüggő stringgé alakítom\n",
    "    ref_text = ''.join(ref_text).replace(\" \", \"\").lower()\n",
    "    input_text = ''.join(input_text).replace(\" \", \"\").lower()\n",
    "\n",
    "    #csak a betűket hagyom meg a stringben\n",
    "    ref_text = ''.join(char for char in ref_text if char.isalpha())\n",
    "    input_text = ''.join(char for char in input_text if char.isalpha())\n",
    "\n",
    "    #kilistázom az egyes betűk gyakoriságát\n",
    "    freq_ref = Counter(ref_text)\n",
    "    freq_input = Counter(input_text)\n",
    "\n",
    "    #meghatázom a különbség mértékét\n",
    "    threshold = 0.1\n",
    "\n",
    "    #ebben a dictionaryben gyűjtöm a feltételnek megfelelő betűket\n",
    "    eltérés = {}\n",
    "\n",
    "    #iterációval összehasonlítom a betűk előfordulásának gyakoriságát\n",
    "    for letter in freq_ref:\n",
    "        ref_rate = freq_ref.get(letter, 0)\n",
    "        input_rate = freq_input.get(letter, 0)\n",
    "        lower_bound = ref_rate * (1 - threshold)\n",
    "        upper_bound = ref_rate * (1 + threshold)\n",
    "\n",
    "        #a feltételeknek megfelelőt kimentem + a szükséges adatokat eltárolom a betűkről\n",
    "        if input_rate < lower_bound or input_rate > upper_bound:\n",
    "            eltérés[letter] = {\n",
    "                'ref_arány': round(ref_rate * 100, 2),\n",
    "                'input_arány': round(input_rate * 100, 2)\n",
    "            }\n",
    "\n",
    "    return eltérés\n"
   ]
  },
  {
   "cell_type": "code",
   "execution_count": 4,
   "id": "c2791f21",
   "metadata": {},
   "outputs": [
    {
     "data": {
      "text/plain": [
       "{'a': {'ref_arány': 8900, 'input_arány': 200},\n",
       " 'b': {'ref_arány': 3000, 'input_arány': 1000},\n",
       " 'n': {'ref_arány': 7900, 'input_arány': 100},\n",
       " 'h': {'ref_arány': 1800, 'input_arány': 400},\n",
       " 'o': {'ref_arány': 4300, 'input_arány': 100},\n",
       " 'z': {'ref_arány': 3500, 'input_arány': 0},\n",
       " 'g': {'ref_arány': 3200, 'input_arány': 0},\n",
       " 'y': {'ref_arány': 3400, 'input_arány': 700},\n",
       " 'l': {'ref_arány': 8300, 'input_arány': 300},\n",
       " 'k': {'ref_arány': 5700, 'input_arány': 0},\n",
       " 'i': {'ref_arány': 5600, 'input_arány': 100},\n",
       " 'r': {'ref_arány': 2700, 'input_arány': 0},\n",
       " 'á': {'ref_arány': 2800, 'input_arány': 300},\n",
       " 't': {'ref_arány': 7800, 'input_arány': 0},\n",
       " 'm': {'ref_arány': 5300, 'input_arány': 0},\n",
       " 'e': {'ref_arány': 13000, 'input_arány': 0},\n",
       " 'í': {'ref_arány': 400, 'input_arány': 0},\n",
       " 'ó': {'ref_arány': 500, 'input_arány': 0},\n",
       " 'u': {'ref_arány': 700, 'input_arány': 0},\n",
       " 'é': {'ref_arány': 1700, 'input_arány': 1000},\n",
       " 'ü': {'ref_arány': 600, 'input_arány': 0},\n",
       " 'c': {'ref_arány': 500, 'input_arány': 600},\n",
       " 's': {'ref_arány': 4100, 'input_arány': 200},\n",
       " 'd': {'ref_arány': 1300, 'input_arány': 500},\n",
       " 'ö': {'ref_arány': 700, 'input_arány': 0},\n",
       " 'ő': {'ref_arány': 300, 'input_arány': 0},\n",
       " 'f': {'ref_arány': 200, 'input_arány': 100},\n",
       " 'v': {'ref_arány': 2200, 'input_arány': 200},\n",
       " 'j': {'ref_arány': 900, 'input_arány': 600},\n",
       " 'p': {'ref_arány': 500, 'input_arány': 0},\n",
       " 'ú': {'ref_arány': 500, 'input_arány': 0}}"
      ]
     },
     "execution_count": 4,
     "metadata": {},
     "output_type": "execute_result"
    }
   ],
   "source": [
    "#meghívom a függvényt\n",
    "eltero_betügyakorisagok(input_file_path=input_file_path, ref_file_path=ref_file_path)"
   ]
  }
 ],
 "metadata": {
  "kernelspec": {
   "display_name": "base",
   "language": "python",
   "name": "python3"
  },
  "language_info": {
   "codemirror_mode": {
    "name": "ipython",
    "version": 3
   },
   "file_extension": ".py",
   "mimetype": "text/x-python",
   "name": "python",
   "nbconvert_exporter": "python",
   "pygments_lexer": "ipython3",
   "version": "3.11.7"
  }
 },
 "nbformat": 4,
 "nbformat_minor": 5
}
